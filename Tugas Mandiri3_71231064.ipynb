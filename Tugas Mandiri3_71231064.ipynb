{
 "cells": [
  {
   "cell_type": "code",
   "execution_count": 7,
   "id": "919cfda6",
   "metadata": {},
   "outputs": [
    {
     "name": "stdout",
     "output_type": "stream",
     "text": [
      "Masukkan usia anda: enam\n"
     ]
    },
    {
     "ename": "ValueError",
     "evalue": "invalid literal for int() with base 10: 'enam'",
     "output_type": "error",
     "traceback": [
      "\u001b[1;31m---------------------------------------------------------------------------\u001b[0m",
      "\u001b[1;31mValueError\u001b[0m                                Traceback (most recent call last)",
      "Cell \u001b[1;32mIn[7], line 1\u001b[0m\n\u001b[1;32m----> 1\u001b[0m usia \u001b[38;5;241m=\u001b[39m \u001b[38;5;28mint\u001b[39m(\u001b[38;5;28minput\u001b[39m(\u001b[38;5;124m\"\u001b[39m\u001b[38;5;124mMasukkan usia anda: \u001b[39m\u001b[38;5;124m\"\u001b[39m))\n\u001b[0;32m      2\u001b[0m \u001b[38;5;28;01mif\u001b[39;00m usia \u001b[38;5;241m<\u001b[39m\u001b[38;5;241m=\u001b[39m \u001b[38;5;241m5\u001b[39m:\n\u001b[0;32m      3\u001b[0m     \u001b[38;5;28mprint\u001b[39m(\u001b[38;5;124m\"\u001b[39m\u001b[38;5;124mBalita\u001b[39m\u001b[38;5;124m\"\u001b[39m)\n",
      "\u001b[1;31mValueError\u001b[0m: invalid literal for int() with base 10: 'enam'"
     ]
    }
   ],
   "source": [
    "usia = int(input(\"Masukkan usia anda: \"))\n",
    "if usia <= 5:\n",
    "    print(\"Balita\")\n",
    "elif usia >= 6 and usia <= 11:\n",
    "    print(\"Kanak-kanak\")\n",
    "elif usia >=12 and usia <= 25:\n",
    "    print(\"Remaja\")\n",
    "elif usia >= 26 and usia <= 45:\n",
    "    print(\"Dewasa\")\n",
    "elif usia > 45:\n",
    "    print(\"Lansia\")"
   ]
  },
  {
   "cell_type": "code",
   "execution_count": 6,
   "id": "15a9a954",
   "metadata": {},
   "outputs": [
    {
     "name": "stdout",
     "output_type": "stream",
     "text": [
      "Masukkan usia anda: 19\n",
      "Remaja\n"
     ]
    }
   ],
   "source": [
    "inputuser = input(\"Masukkan usia anda: \")\n",
    "try:\n",
    "    usia = int(inputuser)\n",
    "    if usia <= 5:\n",
    "        print(\"Balita\")\n",
    "    elif usia >= 6 and usia <= 11:\n",
    "        print(\"Kanak-kanak\")\n",
    "    elif usia >=12 and usia <= 25:\n",
    "        print(\"Remaja\")\n",
    "    elif usia >= 26 and usia <= 45:\n",
    "        print(\"Dewasa\")\n",
    "    elif usia > 45:\n",
    "        print(\"Lansia\")\n",
    "except:\n",
    "    print(\"Anda salah memasukkan input usia\")"
   ]
  },
  {
   "cell_type": "code",
   "execution_count": 11,
   "id": "49dbfb9d",
   "metadata": {},
   "outputs": [
    {
     "name": "stdout",
     "output_type": "stream",
     "text": [
      "Masukkan suatu bilangan: 19\n",
      "Positif\n"
     ]
    }
   ],
   "source": [
    "bilangan = int(input(\"Masukkan suatu bilangan: \"))\n",
    "print(\"Positif\" if bilangan > 0 else \"Negatif\" if bilangan < 0 else \"Nol\")\n"
   ]
  },
  {
   "cell_type": "code",
   "execution_count": 12,
   "id": "51f3525d",
   "metadata": {},
   "outputs": [
    {
     "name": "stdout",
     "output_type": "stream",
     "text": [
      "Masukkan Bulan (1 - 12): 3\n",
      "Jumlah Harinya:  31\n"
     ]
    }
   ],
   "source": [
    "tulis = input(\"Masukkan Bulan (1 - 12): \")\n",
    "\n",
    "try:\n",
    "    bulan = int(tulis)\n",
    "    if bulan == 4 or bulan == 6 or bulan == 9 or bulan == 11:\n",
    "        hari = 30\n",
    "    elif bulan == 1 or bulan == 3 or bulan == 5 or bulan == 7 or bulan == 8 or bulan == 10 or bulan == 12:\n",
    "        hari = 31\n",
    "    elif bulan == 2:\n",
    "        hari = 29\n",
    "    else:\n",
    "        print(\"Data Bulan Tidak Ada Di Kalender\")\n",
    "\n",
    "    print(f\"Jumlah Harinya: \", hari)\n",
    "\n",
    "except:\n",
    "    print(\"Data Bulan Invalid\")"
   ]
  },
  {
   "cell_type": "code",
   "execution_count": 13,
   "id": "14bb545a",
   "metadata": {},
   "outputs": [
    {
     "name": "stdout",
     "output_type": "stream",
     "text": [
      "Masukkan Sisi Ke-1: 18\n",
      "Masukkan Sisi Ke-2: 19\n",
      "Masukkan Sisi Ke-3: 18\n",
      "2 Sisi Yang Sama\n"
     ]
    }
   ],
   "source": [
    "tulis1 = input(\"Masukkan Sisi Ke-1: \")\n",
    "tulis2 = input(\"Masukkan Sisi Ke-2: \")\n",
    "tulis3 = input(\"Masukkan Sisi Ke-3: \")\n",
    "\n",
    "try:\n",
    "    a = int(tulis1)\n",
    "    b = int(tulis2)\n",
    "    c = int(tulis3)\n",
    "\n",
    "    if a == b == c:\n",
    "        print(\"3 Sisi Yang Sama\")\n",
    "    elif a == b or a == c or b == c:\n",
    "        print(\"2 Sisi Yang Sama\")\n",
    "    else:\n",
    "        print(\"Tidak Ada Yang Sama\")\n",
    "\n",
    "except:\n",
    "    print(\"Ada Data Input Yang Tidak Valid\")"
   ]
  },
  {
   "cell_type": "code",
   "execution_count": null,
   "id": "addf566d",
   "metadata": {},
   "outputs": [],
   "source": []
  }
 ],
 "metadata": {
  "kernelspec": {
   "display_name": "Python 3 (ipykernel)",
   "language": "python",
   "name": "python3"
  },
  "language_info": {
   "codemirror_mode": {
    "name": "ipython",
    "version": 3
   },
   "file_extension": ".py",
   "mimetype": "text/x-python",
   "name": "python",
   "nbconvert_exporter": "python",
   "pygments_lexer": "ipython3",
   "version": "3.11.5"
  }
 },
 "nbformat": 4,
 "nbformat_minor": 5
}
